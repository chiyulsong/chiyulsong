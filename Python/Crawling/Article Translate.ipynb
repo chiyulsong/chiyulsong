{
 "cells": [
  {
   "cell_type": "code",
   "execution_count": 44,
   "metadata": {},
   "outputs": [],
   "source": [
    "# !pip install selenium\n",
    "import time\n",
    "\n",
    "from selenium import webdriver\n",
    "from webdriver_manager.chrome import ChromeDriverManager\n",
    "from selenium.webdriver.chrome.service import Service\n",
    "from selenium.webdriver.common.by import By\n",
    "\n",
    "import openai"
   ]
  },
  {
   "cell_type": "code",
   "execution_count": 13,
   "metadata": {},
   "outputs": [],
   "source": [
    "url = 'https://www.investing.com/analysis/us-stock-market-has-plenty-of-reasons-to-rally-after-feds-decision-200634857'"
   ]
  },
  {
   "cell_type": "code",
   "execution_count": 41,
   "metadata": {},
   "outputs": [],
   "source": [
    "# 크롬드라이버 셋팅\n",
    "def set_chrome_driver(headless=True):\n",
    "    options = webdriver.ChromeOptions()\n",
    "    if headless:\n",
    "        options.add_argument('headless')\n",
    "    options.add_argument(\"user-agent=Mozilla/5.0 (Windows NT 10.0; Win64; x64) AppleWebKit/537.36 (KHTML, like Gecko) Chrome/70.0.3538.77 Safari/537.36\")\n",
    "    driver = webdriver.Chrome(service=Service(ChromeDriverManager().install()), options=options)\n",
    "    return driver"
   ]
  },
  {
   "cell_type": "code",
   "execution_count": 42,
   "metadata": {},
   "outputs": [],
   "source": [
    "# 뉴스 페이지 크롤링\n",
    "def crawl_page(url):\n",
    "    try:\n",
    "        driver = set_chrome_driver(False)\n",
    "        driver.get(url)\n",
    "        # 요소 변경 가능\n",
    "        article_page = driver.find_element(By.CLASS_NAME, 'articlePage')\n",
    "        text = article_page.text\n",
    "        driver.close()\n",
    "    except NoSuchElementException:\n",
    "        text = \"\"\n",
    "    return text"
   ]
  },
  {
   "cell_type": "code",
   "execution_count": 45,
   "metadata": {},
   "outputs": [],
   "source": [
    "# ChatGPT 요약\n",
    "def summarize(text):\n",
    "    # 모델 엔진 선택\n",
    "    model_engine = \"text-davinci-003\"\n",
    "\n",
    "    # 맥스 토큰\n",
    "    max_tokens = 2500\n",
    "    \n",
    "    # 프롬프트 (요약해줘!)\n",
    "    prompt = f'''Summarize the paragraph below and interpret whether it is a positive or negative sentiment.\n",
    "\n",
    "    {text}\n",
    "    '''\n",
    "\n",
    "    # 요약 요청\n",
    "    completion = openai.Completion.create(\n",
    "        engine=model_engine,\n",
    "        prompt=prompt,\n",
    "        max_tokens=max_tokens,\n",
    "        temperature=0.3,      # creativity\n",
    "        top_p=1,\n",
    "        frequency_penalty=0,\n",
    "        presence_penalty=0\n",
    "    )\n",
    "    return completion.choices[0].text"
   ]
  },
  {
   "cell_type": "code",
   "execution_count": 46,
   "metadata": {},
   "outputs": [],
   "source": [
    "# 파파고 번역\n",
    "def papago_translate(text):\n",
    "    try:\n",
    "        papago = set_chrome_driver(False)\n",
    "        papago.get('https://papago.naver.com/')\n",
    "        time.sleep(1)\n",
    "        papago.find_element(By.ID, 'txtSource').send_keys(text)\n",
    "        papago.find_element(By.ID, 'btnTranslate').click()\n",
    "        time.sleep(2)\n",
    "        papago_translated = papago.find_element(By.ID, 'targetEditArea')\n",
    "        result = papago_translated.text\n",
    "    except NoSuchElementException: # 예외처리 (요소를 찾지 못하는 경우)\n",
    "        result = '번역 오류ㅠㅠ'\n",
    "    finally:\n",
    "        papago.close()\n",
    "    return result"
   ]
  },
  {
   "cell_type": "code",
   "execution_count": 47,
   "metadata": {},
   "outputs": [],
   "source": [
    "def summarize_news(url):\n",
    "    page = crawl_page(url)\n",
    "    summarized = summarize(page)\n",
    "    print('[원문 요약]')\n",
    "    print(summarized)\n",
    "    korean_translated = papago_translate(summarized)\n",
    "    print('\\n[한글 요약]')\n",
    "    print(korean_translated)\n",
    "    return korean_translated"
   ]
  },
  {
   "cell_type": "code",
   "execution_count": 48,
   "metadata": {},
   "outputs": [
    {
     "name": "stdout",
     "output_type": "stream",
     "text": [
      "[원문 요약]\n",
      "\n",
      "This paragraph is summarizing the current state of the market and the potential for a rally in the second half of the week. The sentiment is cautiously optimistic, as there is a lot of liquidity on the sidelines and traders are in a risk-off mode. The focus is on the FOMC's decision and how the markets react in the following week. Overall, the sentiment is positive.\n",
      "\n",
      "[한글 요약]\n",
      "이 단락은 이번 주 후반에 시장의 현재 상태와 랠리의 가능성을 요약하고 있다. 관망세가 짙고 트레이더들이 위험회피 모드에 있는 만큼 심리는 조심스럽게 낙관적이다. 초점은 FOMC의 결정과 그 다음 주 시장이 어떻게 반응할지에 맞춰져 있다. 전반적으로 긍정적인 분위기다.\n"
     ]
    }
   ],
   "source": [
    "_ = summarize_news(url)"
   ]
  },
  {
   "cell_type": "code",
   "execution_count": null,
   "metadata": {},
   "outputs": [],
   "source": []
  }
 ],
 "metadata": {
  "kernelspec": {
   "display_name": "Python 3",
   "language": "python",
   "name": "python3"
  },
  "language_info": {
   "codemirror_mode": {
    "name": "ipython",
    "version": 3
   },
   "file_extension": ".py",
   "mimetype": "text/x-python",
   "name": "python",
   "nbconvert_exporter": "python",
   "pygments_lexer": "ipython3",
   "version": "3.8.5"
  }
 },
 "nbformat": 4,
 "nbformat_minor": 4
}
