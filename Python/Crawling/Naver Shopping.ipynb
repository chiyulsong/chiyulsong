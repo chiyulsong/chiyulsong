{
 "cells": [
  {
   "cell_type": "code",
   "execution_count": 1,
   "metadata": {},
   "outputs": [],
   "source": [
    "from selenium import webdriver\n",
    "from selenium.webdriver.common.by import By\n",
    "from selenium.webdriver.common.keys import Keys\n",
    "from selenium.webdriver.chrome.options import Options\n",
    "\n",
    "import time\n",
    "import pandas as pd"
   ]
  },
  {
   "cell_type": "code",
   "execution_count": 2,
   "metadata": {},
   "outputs": [
    {
     "name": "stderr",
     "output_type": "stream",
     "text": [
      "<ipython-input-2-4d65f5cc6919>:2: DeprecationWarning: executable_path has been deprecated, please pass in a Service object\n",
      "  browser = webdriver.Chrome('C:/chromedriver.exe')\n"
     ]
    }
   ],
   "source": [
    "keyword = '역방쿠'\n",
    "browser = webdriver.Chrome('C:/chromedriver.exe')\n",
    "browser.get('https://www.naver.com')\n",
    "# 쇼핑 메뉴 클릭\n",
    "browser.find_element('xpath', '//*[@id=\"NM_FAVORITE\"]/div[1]/ul[1]/li[5]/a').click()\n",
    "browser.implicitly_wait(1)\n",
    "\n",
    "# 검색창 클릭\n",
    "engine = browser.find_element('xpath', '//*[@id=\"__next\"]/div/div[1]/div/div/div[2]/div/div[2]/div/div[2]/form/div[1]/div[1]/input')\n",
    "engine.click()\n",
    "\n",
    "# 검색창 단어 입력\n",
    "engine.send_keys(keyword)\n",
    "engine.send_keys(Keys.ENTER)\n",
    "\n",
    "# 리뷰많은 순 클릭\n",
    "#browser.find_element('xpath', '//*[@id=\"content\"]/div[1]/div[1]/div/div[1]/a[4]')"
   ]
  },
  {
   "cell_type": "code",
   "execution_count": 3,
   "metadata": {},
   "outputs": [
    {
     "name": "stdout",
     "output_type": "stream",
     "text": [
      "3796\n",
      "6105\n",
      "7916\n",
      "9724\n",
      "9895\n",
      "3708\n",
      "5995\n",
      "7803\n",
      "8878\n"
     ]
    }
   ],
   "source": [
    "names = []\n",
    "prices = []\n",
    "dates = []\n",
    "links = []\n",
    "sellers = []\n",
    "\n",
    "for i in range(1, 3):\n",
    "    browser.get(f'https://search.shopping.naver.com/search/all?frm=NVSHATC&origQuery=%EC%97%AD%EB%B0%A9%EC%BF%A0&pagingIndex={i}&pagingSize=40&productSet=total&query=%EC%97%AD%EB%B0%A9%EC%BF%A0&sort=rel&timestamp=&viewType=list') \n",
    "    \n",
    "    while True:\n",
    "        bh = browser.execute_script(\"return document.body.scrollHeight\") # 브라우저 상의 처음 높이\n",
    "        print(bh)\n",
    "        time.sleep(4)\n",
    "        browser.execute_script(\"window.scrollTo(0, document.body.scrollHeight)\") # 브라우저 상의 처음 높이\n",
    "        time.sleep(2)\n",
    "        ah = browser.execute_script(\"return document.body.scrollHeight\") # 브라우저 상의 처음 높이\n",
    "        if ah == bh:\n",
    "            break\n",
    "        bh = ah\n",
    "    infos = browser.find_elements(By.CSS_SELECTOR, \".basicList_info_area__TWvzp\")\n",
    "    for info in infos:\n",
    "        try:\n",
    "            name = info.find_element(By.CSS_SELECTOR, '.basicList_title__VfX3c').text\n",
    "            names.append(name)\n",
    "            price = info.find_element(By.CSS_SELECTOR, '.price_num__S2p_v').text\n",
    "            prices.append(price)\n",
    "            date = info.find_element(By.CSS_SELECTOR, '.basicList_etc__LSkN_').text\n",
    "            dates.append(date)\n",
    "            link = info.find_element(By.CSS_SELECTOR, 'a.basicList_link__JLQJf').get_attribute(\"href\")\n",
    "            links.append(link)\n",
    "            seller = info.find_element(By.CSS_SELECTOR, '.basicList_etc__LSkN_').text\n",
    "            sellers.append(seller)\n",
    "            \n",
    "        except:\n",
    "            print('Exception')\n",
    "#browser.close()            "
   ]
  },
  {
   "cell_type": "code",
   "execution_count": 4,
   "metadata": {},
   "outputs": [
    {
     "data": {
      "text/html": [
       "<div>\n",
       "<style scoped>\n",
       "    .dataframe tbody tr th:only-of-type {\n",
       "        vertical-align: middle;\n",
       "    }\n",
       "\n",
       "    .dataframe tbody tr th {\n",
       "        vertical-align: top;\n",
       "    }\n",
       "\n",
       "    .dataframe thead th {\n",
       "        text-align: right;\n",
       "    }\n",
       "</style>\n",
       "<table border=\"1\" class=\"dataframe\">\n",
       "  <thead>\n",
       "    <tr style=\"text-align: right;\">\n",
       "      <th></th>\n",
       "      <th>name</th>\n",
       "      <th>price</th>\n",
       "      <th>date</th>\n",
       "      <th>link</th>\n",
       "    </tr>\n",
       "  </thead>\n",
       "  <tbody>\n",
       "    <tr>\n",
       "      <th>0</th>\n",
       "      <td>바르맘 역방쿠 신생아 아기 애기 역류방지쿠션</td>\n",
       "      <td>104,000원</td>\n",
       "      <td>등록일 2022.07.</td>\n",
       "      <td>https://adcr.naver.com/adcr?x=f0SuI/+96xvsFOj1...</td>\n",
       "    </tr>\n",
       "    <tr>\n",
       "      <th>1</th>\n",
       "      <td>역류방지쿠션 신생아 수유쿠션 역방쿠</td>\n",
       "      <td>68,000원</td>\n",
       "      <td>등록일 2022.07.</td>\n",
       "      <td>https://adcr.naver.com/adcr?x=ofGszjZPzkXFH/KW...</td>\n",
       "    </tr>\n",
       "    <tr>\n",
       "      <th>2</th>\n",
       "      <td>역류방지쿠션 역방쿠</td>\n",
       "      <td>99,800원</td>\n",
       "      <td>등록일 2022.12.</td>\n",
       "      <td>https://adcr.naver.com/adcr?x=U0vcfWO3cEcT0w0/...</td>\n",
       "    </tr>\n",
       "    <tr>\n",
       "      <th>3</th>\n",
       "      <td>바르맘 역류방지쿠션 신생아 역방쿠 100수 커버 포함</td>\n",
       "      <td>104,000원</td>\n",
       "      <td>리뷰459</td>\n",
       "      <td>https://cr.shopping.naver.com/adcr.nhn?x=eF9kv...</td>\n",
       "    </tr>\n",
       "    <tr>\n",
       "      <th>4</th>\n",
       "      <td>롤베이비 역류방지쿠션 신생아 역방쿠 아기 역류쿠션 커버분리형</td>\n",
       "      <td>34,860원</td>\n",
       "      <td>리뷰별점 4.978</td>\n",
       "      <td>https://cr.shopping.naver.com/adcr.nhn?x=gsRqJ...</td>\n",
       "    </tr>\n",
       "    <tr>\n",
       "      <th>...</th>\n",
       "      <td>...</td>\n",
       "      <td>...</td>\n",
       "      <td>...</td>\n",
       "      <td>...</td>\n",
       "    </tr>\n",
       "    <tr>\n",
       "      <th>82</th>\n",
       "      <td>꿀수면 아기베개 신생아 역류방지쿠션 사용시기 역방쿠</td>\n",
       "      <td>169,840원</td>\n",
       "      <td>등록일 2023.03.</td>\n",
       "      <td>https://cr.shopping.naver.com/adcr.nhn?x=5Uoip...</td>\n",
       "    </tr>\n",
       "    <tr>\n",
       "      <th>83</th>\n",
       "      <td>해외수유 쿠션 출산선물 육아템 역류방지쿠션 사용시기 역방쿠</td>\n",
       "      <td>81,180원</td>\n",
       "      <td>등록일 2023.03.</td>\n",
       "      <td>https://cr.shopping.naver.com/adcr.nhn?x=4%2Fr...</td>\n",
       "    </tr>\n",
       "    <tr>\n",
       "      <th>84</th>\n",
       "      <td>제이나인 신생아쿠션 등받이 역류방지쿠션 사용시기 역방쿠</td>\n",
       "      <td>116,560원</td>\n",
       "      <td>등록일 2023.02.</td>\n",
       "      <td>https://cr.shopping.naver.com/adcr.nhn?x=XCCVS...</td>\n",
       "    </tr>\n",
       "    <tr>\n",
       "      <th>85</th>\n",
       "      <td>꿀수면 아기쿠션 모유수유 역류방지쿠션 사용시기 역방쿠</td>\n",
       "      <td>171,760원</td>\n",
       "      <td>등록일 2023.02.</td>\n",
       "      <td>https://cr.shopping.naver.com/adcr.nhn?x=z%2FX...</td>\n",
       "    </tr>\n",
       "    <tr>\n",
       "      <th>86</th>\n",
       "      <td>수유쿠션 육아템 출산용품 역류방지쿠션 사용시기 역방쿠</td>\n",
       "      <td>65,190원</td>\n",
       "      <td>등록일 2023.02.</td>\n",
       "      <td>https://cr.shopping.naver.com/adcr.nhn?x=Gbs06...</td>\n",
       "    </tr>\n",
       "  </tbody>\n",
       "</table>\n",
       "<p>87 rows × 4 columns</p>\n",
       "</div>"
      ],
      "text/plain": [
       "                                 name     price          date  \\\n",
       "0            바르맘 역방쿠 신생아 아기 애기 역류방지쿠션  104,000원  등록일 2022.07.   \n",
       "1                 역류방지쿠션 신생아 수유쿠션 역방쿠   68,000원  등록일 2022.07.   \n",
       "2                          역류방지쿠션 역방쿠   99,800원  등록일 2022.12.   \n",
       "3       바르맘 역류방지쿠션 신생아 역방쿠 100수 커버 포함  104,000원         리뷰459   \n",
       "4   롤베이비 역류방지쿠션 신생아 역방쿠 아기 역류쿠션 커버분리형   34,860원    리뷰별점 4.978   \n",
       "..                                ...       ...           ...   \n",
       "82       꿀수면 아기베개 신생아 역류방지쿠션 사용시기 역방쿠  169,840원  등록일 2023.03.   \n",
       "83   해외수유 쿠션 출산선물 육아템 역류방지쿠션 사용시기 역방쿠   81,180원  등록일 2023.03.   \n",
       "84     제이나인 신생아쿠션 등받이 역류방지쿠션 사용시기 역방쿠  116,560원  등록일 2023.02.   \n",
       "85      꿀수면 아기쿠션 모유수유 역류방지쿠션 사용시기 역방쿠  171,760원  등록일 2023.02.   \n",
       "86      수유쿠션 육아템 출산용품 역류방지쿠션 사용시기 역방쿠   65,190원  등록일 2023.02.   \n",
       "\n",
       "                                                 link  \n",
       "0   https://adcr.naver.com/adcr?x=f0SuI/+96xvsFOj1...  \n",
       "1   https://adcr.naver.com/adcr?x=ofGszjZPzkXFH/KW...  \n",
       "2   https://adcr.naver.com/adcr?x=U0vcfWO3cEcT0w0/...  \n",
       "3   https://cr.shopping.naver.com/adcr.nhn?x=eF9kv...  \n",
       "4   https://cr.shopping.naver.com/adcr.nhn?x=gsRqJ...  \n",
       "..                                                ...  \n",
       "82  https://cr.shopping.naver.com/adcr.nhn?x=5Uoip...  \n",
       "83  https://cr.shopping.naver.com/adcr.nhn?x=4%2Fr...  \n",
       "84  https://cr.shopping.naver.com/adcr.nhn?x=XCCVS...  \n",
       "85  https://cr.shopping.naver.com/adcr.nhn?x=z%2FX...  \n",
       "86  https://cr.shopping.naver.com/adcr.nhn?x=Gbs06...  \n",
       "\n",
       "[87 rows x 4 columns]"
      ]
     },
     "execution_count": 4,
     "metadata": {},
     "output_type": "execute_result"
    }
   ],
   "source": [
    "df = pd.DataFrame({'name':names, 'price':prices, 'seller':sellers, 'date':dates, 'link':links})\n",
    "df"
   ]
  },
  {
   "cell_type": "code",
   "execution_count": 6,
   "metadata": {},
   "outputs": [],
   "source": [
    "df.to_clipboard(index=False)"
   ]
  },
  {
   "cell_type": "markdown",
   "metadata": {},
   "source": [
    "# beautifulsoup"
   ]
  },
  {
   "cell_type": "code",
   "execution_count": 128,
   "metadata": {},
   "outputs": [],
   "source": [
    "from bs4 import BeautifulSoup\n",
    "from selenium import webdriver\n",
    "import requests\n",
    "import time"
   ]
  },
  {
   "cell_type": "code",
   "execution_count": 134,
   "metadata": {},
   "outputs": [
    {
     "name": "stdin",
     "output_type": "stream",
     "text": [
      "검색어를 입력하세요 :  파이썬\n"
     ]
    }
   ],
   "source": [
    "base_url = 'https://search.naver.com/search.naver?where=view&sm=top_hty&fbm=1&ie=utf8&query='\n",
    "\n",
    "keyword = input(\"검색어를 입력하세요 : \")\n",
    "\n",
    "search_url = base_url + keyword\n",
    "\n",
    "driver = webdriver.Chrome(service=Service('C:/chromedriver.exe'), options=chrome_options)\n",
    "\n",
    "driver.get(search_url)\n",
    "\n",
    "time.sleep(3)\n",
    "\n",
    "for i in range(5):\n",
    "    driver.execute_script(\"window.scrollTo(0, document.body.scrollHeight);\")\n",
    "    time.sleep(1)\n",
    "\n",
    "html = driver.page_source\n",
    "\n",
    "soup = BeautifulSoup(html, \"html.parser\")\n",
    "\n",
    "items = soup.select(\".api_txt_lines.total_tit\")"
   ]
  },
  {
   "cell_type": "code",
   "execution_count": 136,
   "metadata": {},
   "outputs": [
    {
     "name": "stdout",
     "output_type": "stream",
     "text": [
      "<<1>>\n"
     ]
    },
    {
     "ename": "AttributeError",
     "evalue": "'NoneType' object has no attribute 'text'",
     "output_type": "error",
     "traceback": [
      "\u001b[1;31m---------------------------------------------------------------------------\u001b[0m",
      "\u001b[1;31mAttributeError\u001b[0m                            Traceback (most recent call last)",
      "\u001b[1;32m<ipython-input-136-a9dbcfe6a9b9>\u001b[0m in \u001b[0;36m<module>\u001b[1;34m\u001b[0m\n\u001b[0;32m      6\u001b[0m         \u001b[1;32mcontinue\u001b[0m\u001b[1;33m\u001b[0m\u001b[1;33m\u001b[0m\u001b[0m\n\u001b[0;32m      7\u001b[0m \u001b[1;33m\u001b[0m\u001b[0m\n\u001b[1;32m----> 8\u001b[1;33m     \u001b[0mtitle\u001b[0m \u001b[1;33m=\u001b[0m \u001b[0mitem\u001b[0m\u001b[1;33m.\u001b[0m\u001b[0mselect_one\u001b[0m\u001b[1;33m(\u001b[0m\u001b[1;34m\".sub_txt.sub_name\"\u001b[0m\u001b[1;33m)\u001b[0m\u001b[1;33m.\u001b[0m\u001b[0mtext\u001b[0m\u001b[1;33m\u001b[0m\u001b[1;33m\u001b[0m\u001b[0m\n\u001b[0m\u001b[0;32m      9\u001b[0m     \u001b[0mtitle\u001b[0m\u001b[1;33m\u001b[0m\u001b[1;33m\u001b[0m\u001b[0m\n",
      "\u001b[1;31mAttributeError\u001b[0m: 'NoneType' object has no attribute 'text'"
     ]
    }
   ],
   "source": [
    "for e, item in enumerate(items, 1):\n",
    "    print(f\"<<{e}>>\")\n",
    "    ad = item.select_one(\".link_ad\")\n",
    "    if ad:\n",
    "        print(\"광고입니다.\")\n",
    "        continue\n",
    "        \n",
    "    title = item.select_one(\".sub_txt.sub_name\").text\n",
    "    title"
   ]
  },
  {
   "cell_type": "code",
   "execution_count": null,
   "metadata": {},
   "outputs": [],
   "source": []
  }
 ],
 "metadata": {
  "kernelspec": {
   "display_name": "Python 3",
   "language": "python",
   "name": "python3"
  },
  "language_info": {
   "codemirror_mode": {
    "name": "ipython",
    "version": 3
   },
   "file_extension": ".py",
   "mimetype": "text/x-python",
   "name": "python",
   "nbconvert_exporter": "python",
   "pygments_lexer": "ipython3",
   "version": "3.8.5"
  }
 },
 "nbformat": 4,
 "nbformat_minor": 4
}
