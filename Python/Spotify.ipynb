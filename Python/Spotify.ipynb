{
 "cells": [
  {
   "cell_type": "code",
   "execution_count": 59,
   "metadata": {},
   "outputs": [],
   "source": [
    "from dotenv import load_dotenv\n",
    "import os\n",
    "import base64\n",
    "from requests import post, get\n",
    "import json"
   ]
  },
  {
   "cell_type": "code",
   "execution_count": 14,
   "metadata": {},
   "outputs": [
    {
     "data": {
      "text/plain": [
       "True"
      ]
     },
     "execution_count": 14,
     "metadata": {},
     "output_type": "execute_result"
    }
   ],
   "source": [
    "load_dotenv()"
   ]
  },
  {
   "cell_type": "code",
   "execution_count": 29,
   "metadata": {},
   "outputs": [],
   "source": [
    "client_id = os.getenv(\"client_id\") \n",
    "client_secret = os.getenv(\"client_secret\")"
   ]
  },
  {
   "cell_type": "code",
   "execution_count": 30,
   "metadata": {},
   "outputs": [
    {
     "name": "stdout",
     "output_type": "stream",
     "text": [
      "fb77839f7b3549a2a8f6884550d4d2d3 d2e42cbe108245a18a85423acf0eddb8\n"
     ]
    }
   ],
   "source": [
    "print(client_id, client_secret) "
   ]
  },
  {
   "cell_type": "code",
   "execution_count": 60,
   "metadata": {},
   "outputs": [],
   "source": [
    "def get_token():\n",
    "    auth_string = client_id + \":\" + client_secret\n",
    "    auth_bytes = auth_string.encode(\"utf-8\")\n",
    "    auth_base64 = str(base64.b64encode(auth_bytes), \"utf-8\")\n",
    "    \n",
    "    url = \"https://accounts.spotify.com/api/token\"\n",
    "    headers = {\n",
    "        \"Authorization\": \"Basic \" + auth_base64,\n",
    "        \"Content-Type\": \"application/x-www-form-urlencoded\"        \n",
    "    }\n",
    "    data = {\"grant_type\": \"client_credentials\"}\n",
    "    result = post(url, headers=headers, data=data)\n",
    "    json_result = json.loads(result.content)\n",
    "    token = json_result[\"access_token\"]\n",
    "    return token"
   ]
  },
  {
   "cell_type": "code",
   "execution_count": 61,
   "metadata": {},
   "outputs": [],
   "source": [
    "def get_auth_header(token):\n",
    "    return {\"Authorization\": \"Bearer \" + token}"
   ]
  },
  {
   "cell_type": "code",
   "execution_count": 71,
   "metadata": {},
   "outputs": [],
   "source": [
    "def search_for_artist(token, artist_name):\n",
    "    url = \"https://api.spotify.com/v1/search\"\n",
    "    headers = get_auth_header(token)\n",
    "    query = f\"?q={artist_name}&type=artist&limit=1\"\n",
    "    \n",
    "    query_url = url + query\n",
    "    result = get(query_url, headers=headers)\n",
    "    json_result = json.loads(result.content)[\"artists\"][\"items\"]\n",
    "    \n",
    "    if len(json_result) == 0:\n",
    "        print(\"No artist with this name exist...\")\n",
    "        return none\n",
    "    return json_result[0]"
   ]
  },
  {
   "cell_type": "code",
   "execution_count": 114,
   "metadata": {},
   "outputs": [],
   "source": [
    "def get_songs_by_artists(token, artist_id, country=\"US\"):\n",
    "    url = f\"https://api.spotify.com/v1/artists/{artist_id}/top-tracks?country={country}\"\n",
    "    headers = get_auth_header(token)\n",
    "    result = get(url, headers=headers)\n",
    "    json_result = json.loads(result.content)[\"tracks\"]\n",
    "    return json_result"
   ]
  },
  {
   "cell_type": "code",
   "execution_count": 121,
   "metadata": {},
   "outputs": [],
   "source": [
    "token = get_token()"
   ]
  },
  {
   "cell_type": "code",
   "execution_count": 122,
   "metadata": {},
   "outputs": [
    {
     "data": {
      "text/plain": [
       "'3Nrfpe0tUJi4K4DXYWgMUX'"
      ]
     },
     "execution_count": 122,
     "metadata": {},
     "output_type": "execute_result"
    }
   ],
   "source": [
    "result = search_for_artist(token, \"BTS\")\n",
    "artist_id = result[\"id\"]\n",
    "artist_id"
   ]
  },
  {
   "cell_type": "code",
   "execution_count": 131,
   "metadata": {},
   "outputs": [],
   "source": [
    "songs = get_songs_by_artists(token, artist_id)"
   ]
  },
  {
   "cell_type": "code",
   "execution_count": 132,
   "metadata": {},
   "outputs": [
    {
     "name": "stdout",
     "output_type": "stream",
     "text": [
      "1. Left and Right (Feat. Jung Kook of BTS)\n",
      "2. My Universe\n",
      "3. Dreamers [Music from the FIFA World Cup Qatar 2022 Official Soundtrack]\n",
      "4. Dynamite\n",
      "5. Run BTS\n",
      "6. Butter\n",
      "7. Boy With Luv (feat. Halsey)\n",
      "8. FAKE LOVE\n",
      "9. Euphoria\n",
      "10. Yet To Come\n"
     ]
    }
   ],
   "source": [
    "for idx, song in enumerate(songs):\n",
    "    print(f\"{idx + 1}. {song['name']}\")"
   ]
  },
  {
   "cell_type": "code",
   "execution_count": 133,
   "metadata": {},
   "outputs": [
    {
     "data": {
      "text/plain": [
       "{'album': {'album_group': 'album',\n",
       "  'album_type': 'album',\n",
       "  'artists': [{'external_urls': {'spotify': 'https://open.spotify.com/artist/3Nrfpe0tUJi4K4DXYWgMUX'},\n",
       "    'href': 'https://api.spotify.com/v1/artists/3Nrfpe0tUJi4K4DXYWgMUX',\n",
       "    'id': '3Nrfpe0tUJi4K4DXYWgMUX',\n",
       "    'name': 'BTS',\n",
       "    'type': 'artist',\n",
       "    'uri': 'spotify:artist:3Nrfpe0tUJi4K4DXYWgMUX'}],\n",
       "  'external_urls': {'spotify': 'https://open.spotify.com/album/6al2VdKbb6FIz9d7lU7WRB'},\n",
       "  'href': 'https://api.spotify.com/v1/albums/6al2VdKbb6FIz9d7lU7WRB',\n",
       "  'id': '6al2VdKbb6FIz9d7lU7WRB',\n",
       "  'images': [{'height': 640,\n",
       "    'url': 'https://i.scdn.co/image/ab67616d0000b27317db30ce3f081d6818a8ad49',\n",
       "    'width': 640},\n",
       "   {'height': 300,\n",
       "    'url': 'https://i.scdn.co/image/ab67616d00001e0217db30ce3f081d6818a8ad49',\n",
       "    'width': 300},\n",
       "   {'height': 64,\n",
       "    'url': 'https://i.scdn.co/image/ab67616d0000485117db30ce3f081d6818a8ad49',\n",
       "    'width': 64}],\n",
       "  'is_playable': True,\n",
       "  'name': 'Proof',\n",
       "  'release_date': '2022-06-10',\n",
       "  'release_date_precision': 'day',\n",
       "  'total_tracks': 35,\n",
       "  'type': 'album',\n",
       "  'uri': 'spotify:album:6al2VdKbb6FIz9d7lU7WRB'},\n",
       " 'artists': [{'external_urls': {'spotify': 'https://open.spotify.com/artist/3Nrfpe0tUJi4K4DXYWgMUX'},\n",
       "   'href': 'https://api.spotify.com/v1/artists/3Nrfpe0tUJi4K4DXYWgMUX',\n",
       "   'id': '3Nrfpe0tUJi4K4DXYWgMUX',\n",
       "   'name': 'BTS',\n",
       "   'type': 'artist',\n",
       "   'uri': 'spotify:artist:3Nrfpe0tUJi4K4DXYWgMUX'}],\n",
       " 'disc_number': 1,\n",
       " 'duration_ms': 193593,\n",
       " 'explicit': False,\n",
       " 'external_ids': {'isrc': 'USA2P2226300'},\n",
       " 'external_urls': {'spotify': 'https://open.spotify.com/track/10SRMwb9EuVS1K9rYsBfHQ'},\n",
       " 'href': 'https://api.spotify.com/v1/tracks/10SRMwb9EuVS1K9rYsBfHQ',\n",
       " 'id': '10SRMwb9EuVS1K9rYsBfHQ',\n",
       " 'is_local': False,\n",
       " 'is_playable': True,\n",
       " 'name': 'Yet To Come',\n",
       " 'popularity': 79,\n",
       " 'preview_url': 'https://p.scdn.co/mp3-preview/4cf5bfb6edab3acf59f370972492b813e2b07d60?cid=fb77839f7b3549a2a8f6884550d4d2d3',\n",
       " 'track_number': 19,\n",
       " 'type': 'track',\n",
       " 'uri': 'spotify:track:10SRMwb9EuVS1K9rYsBfHQ'}"
      ]
     },
     "execution_count": 133,
     "metadata": {},
     "output_type": "execute_result"
    }
   ],
   "source": [
    "song"
   ]
  },
  {
   "cell_type": "code",
   "execution_count": null,
   "metadata": {},
   "outputs": [],
   "source": []
  }
 ],
 "metadata": {
  "kernelspec": {
   "display_name": "Python 3",
   "language": "python",
   "name": "python3"
  },
  "language_info": {
   "codemirror_mode": {
    "name": "ipython",
    "version": 3
   },
   "file_extension": ".py",
   "mimetype": "text/x-python",
   "name": "python",
   "nbconvert_exporter": "python",
   "pygments_lexer": "ipython3",
   "version": "3.8.5"
  }
 },
 "nbformat": 4,
 "nbformat_minor": 4
}
